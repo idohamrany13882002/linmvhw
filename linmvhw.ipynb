{
 "cells": [
  {
   "cell_type": "code",
   "execution_count": 1,
   "id": "3ca8eb6d-a855-4962-8dc2-8f9182786814",
   "metadata": {},
   "outputs": [],
   "source": [
    "import numpy as np\n",
    "from sklearn.linear_model import LinearRegression"
   ]
  },
  {
   "cell_type": "code",
   "execution_count": 2,
   "id": "e26f0027-13fa-4d06-adb6-0ed7f6d1642d",
   "metadata": {},
   "outputs": [
    {
     "name": "stdout",
     "output_type": "stream",
     "text": [
      "Intercept (b0): 1.72\n",
      "Years of experience (a) coefficient (b1): 1.97\n",
      "Education (b) coefficient (b2): 0.12\n",
      "Work hours (c) coefficient (b3): 0.20\n",
      "Managment experiance(d) coefficient (b4): 2.58\n"
     ]
    }
   ],
   "source": [
    "x = np.array([\n",
    "    [2,15,40,0],\n",
    "    [5,16,45,1],\n",
    "    [3,16,40,0],\n",
    "    [10,18,50,5],\n",
    "    [7,17,45,3],\n",
    "    [1,14,35,0],\n",
    "    [8,16,45,4],\n",
    "    [4,15,40,1],\n",
    "    [6,15,42,2],\n",
    "    [12,19,55,8]\n",
    "])\n",
    "y = np.array([15,25,18,45,35,12,38,22,30,60])\n",
    "\n",
    "model = LinearRegression()\n",
    "model.fit(x,y)\n",
    "\n",
    "b0 = model.intercept_\n",
    "b1 = model.coef_[0]\n",
    "b2 = model.coef_[1]\n",
    "b3 = model.coef_[2]\n",
    "b4 = model.coef_[3]\n",
    "\n",
    "print(f\"Intercept (b0): {b0:.2f}\")\n",
    "print(f\"Years of experience (a) coefficient (b1): {b1:.2f}\")\n",
    "print(f\"Education (b) coefficient (b2): {b2:.2f}\")\n",
    "print(f\"Work hours (c) coefficient (b3): {b3:.2f}\")\n",
    "print(f\"Managment experiance(d) coefficient (b4): {b4:.2f}\")"
   ]
  },
  {
   "cell_type": "code",
   "execution_count": 3,
   "id": "2922f518-fe85-4a56-bfbb-cfd6d79cdadb",
   "metadata": {},
   "outputs": [
    {
     "name": "stdout",
     "output_type": "stream",
     "text": [
      "y = 1.97a + 0.12b + 0.20c + 2.58d + 1.72\n",
      "a = Years of experience\n",
      "b = Education\n",
      "c = Work hours\n",
      "d = Managment experience\n"
     ]
    }
   ],
   "source": [
    "print(f\"y = {b1:.2f}a + {b2:.2f}b + {b3:.2f}c + {b4:.2f}d + {b0:.2f}\")\n",
    "print(\"a = Years of experience\")\n",
    "print(\"b = Education\")\n",
    "print(\"c = Work hours\")\n",
    "print(\"d = Managment experience\")"
   ]
  },
  {
   "cell_type": "code",
   "execution_count": 8,
   "id": "96df57e8-78f7-4b2b-8887-9f20683ae1d3",
   "metadata": {},
   "outputs": [
    {
     "name": "stdout",
     "output_type": "stream",
     "text": [
      "29.212125660598943\n"
     ]
    }
   ],
   "source": [
    "print(f\"{(b1)*(6) + (b2)*(16) + (b3)*(43) + (b4)*(2) + b0}\")"
   ]
  },
  {
   "cell_type": "markdown",
   "id": "473f9b45-c633-45e7-be31-9ae7036a9c4d",
   "metadata": {},
   "source": [
    "Management experience and years of experience are the most contributing to the accelerate due to the fact they coefficients are the largest by large margin"
   ]
  }
 ],
 "metadata": {
  "kernelspec": {
   "display_name": "Python 3 (ipykernel)",
   "language": "python",
   "name": "python3"
  },
  "language_info": {
   "codemirror_mode": {
    "name": "ipython",
    "version": 3
   },
   "file_extension": ".py",
   "mimetype": "text/x-python",
   "name": "python",
   "nbconvert_exporter": "python",
   "pygments_lexer": "ipython3",
   "version": "3.12.7"
  }
 },
 "nbformat": 4,
 "nbformat_minor": 5
}
